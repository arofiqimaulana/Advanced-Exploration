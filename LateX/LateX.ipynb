{
 "cells": [
  {
   "cell_type": "markdown",
   "metadata": {},
   "source": [
    "### 1. Persamaan Regresi\n",
    "\n",
    "[latex] Y=a_{0} + a_{1}X_{1} + a_{2}X_{2} + a_{3}X_{3} + a_{4}X_{4} [/latex]"
   ]
  },
  {
   "cell_type": "markdown",
   "metadata": {},
   "source": [
    "$$Y=a_{0} + a_{1}X_{1} + a_{2}X_{2} + a_{3}X_{3} + a_{4}X_{4}$$"
   ]
  },
  {
   "cell_type": "markdown",
   "metadata": {},
   "source": [
    "### 2. Invers Matriks\n",
    "\n",
    "[latex] beta=(X^TX)^{-1}X^TY [/latex]"
   ]
  },
  {
   "cell_type": "markdown",
   "metadata": {},
   "source": [
    "$$beta=(X^TX)^{-1}X^TY  $$"
   ]
  },
  {
   "cell_type": "markdown",
   "metadata": {},
   "source": [
    "### 3. Koefisien Regresi\n",
    "\n",
    "[latex] \\beta_{1}=(\\sum XY - \\sum X \\sum Y/n)/(\\sum X^2 - n.\\bar{X}^2) [/latex]"
   ]
  },
  {
   "cell_type": "markdown",
   "metadata": {},
   "source": [
    "$$\\beta_{1}=(\\sum XY - \\sum X \\sum Y/n)/(\\sum X^2 - n.\\bar{X}^2)$$"
   ]
  },
  {
   "cell_type": "markdown",
   "metadata": {},
   "source": [
    "### 4. Fungsi Loss\n",
    "- [latex] L=\\frac{1}{n} \\sum(y-\\hat{y})^2 [/latex]\n",
    "- [latex] L=\\frac{1}{n} \\sum(y-(a_{0} + a_{1}X_{1} + a_{2}X_{2} + a_{3}X_{3} + a_{4}X_{4} ))^2 [/latex]"
   ]
  },
  {
   "cell_type": "markdown",
   "metadata": {},
   "source": [
    "$$L=\\frac{1}{n} \\sum(y-\\hat{y})^2$$\n",
    "$$L=\\frac{1}{n} \\sum(y-(a_{0} + a_{1}X_{1} + a_{2}X_{2} + a_{3}X_{3} + a_{4}X_{4} ))^2$$"
   ]
  },
  {
   "cell_type": "markdown",
   "metadata": {},
   "source": [
    "### 5. Koefisien Korelasi\n",
    "\n",
    "[latex] r_{x,y} = \\frac{\\sum (X-\\bar{X}) (Y-\\bar{Y})}{\\sum (X-\\bar{X})^2 \\sum (Y-\\bar{Y})^2} [/latex]"
   ]
  },
  {
   "cell_type": "markdown",
   "metadata": {},
   "source": [
    "$$ r_{x,y} = \\frac{\\sum (X-\\bar{X}) (Y-\\bar{Y})}{\\sum (X-\\bar{X})^2 \\sum (Y-\\bar{Y})^2} $$"
   ]
  },
  {
   "cell_type": "markdown",
   "metadata": {},
   "source": [
    "### 6. Croncbach’s Alpha\n",
    "- [latex] \\alpha=\\left[\\frac{k}{k-1}\\right]\\left[1-\\frac{\\sum s_{i}^2}{S_{t}^2}\\right][/latex]\n",
    "- [latex] s_{t}^2 = \\frac{\\sum x^2 - \\frac{(\\sum x)^2}{n}}{n-1} [/latex]"
   ]
  },
  {
   "cell_type": "markdown",
   "metadata": {},
   "source": [
    "$$\\alpha=\\left[\\frac{k}{k-1}\\right]\\left[1-\\frac{\\sum s_{i}^2}{s_{t}^2}\\right]$$"
   ]
  },
  {
   "cell_type": "markdown",
   "metadata": {},
   "source": [
    "$$ s_{t}^2 = \\frac{\\sum x^2 - \\frac{(\\sum x)^2}{n}}{n-1}  $$"
   ]
  },
  {
   "cell_type": "markdown",
   "metadata": {},
   "source": [
    "### 7. Ragam\n",
    "\n",
    "- [latex] \\sigma = \\sqrt{\\frac{\\sum(x_i-\\bar{X})^2}{n}} [/latex]\n",
    "- [latex] \\bar{X} = \\frac{\\sum_{i=1}^{n} x_i}{n} [/latex]"
   ]
  },
  {
   "cell_type": "markdown",
   "metadata": {},
   "source": [
    "$$\\sigma = \\sqrt{\\frac{\\sum(x_i-\\bar{X})^2}{n}}$$\n",
    "\n",
    "$$\\bar{X} = \\frac{\\sum_{i=1}^{n} x_i}{n}$$"
   ]
  },
  {
   "cell_type": "markdown",
   "metadata": {},
   "source": [
    "### 8. Normal Distribution\n",
    "[latex]  f(x;\\mu ,\\sigma) = \\frac{1}{\\sigma\\sqrt{2\\pi}} \\exp\\left( -\\frac{1}{2}\\left(\\frac{x-\\mu}{\\sigma}\\right)^{\\!2}\\,\\right) ; \\ -\\infty < x < \\infty [/latex]"
   ]
  },
  {
   "cell_type": "markdown",
   "metadata": {},
   "source": [
    "$$ f(x;\\mu ,\\sigma) = \\frac{1}{\\sigma\\sqrt{2\\pi}} \\exp\\left( -\\frac{1}{2}\\left(\\frac{x-\\mu}{\\sigma}\\right)^{\\!2}\\,\\right) ; \\ -\\infty < x < \\infty $$"
   ]
  },
  {
   "cell_type": "markdown",
   "metadata": {},
   "source": [
    "### 9. Text Term\n",
    "[latex]\n",
    "[\n",
    "S = \\{ z \\in \\mathbb{C}\\, |\\, |z| < 1 \\} \\quad \\textrm{dimana} \\quad S_2=\\partial{S}\n",
    "] [/latex]"
   ]
  },
  {
   "cell_type": "markdown",
   "metadata": {},
   "source": [
    "$$\n",
    "[\n",
    "S = \\{ z \\in \\mathbb{C}\\, |\\, |z| < 1 \\} \\quad \\textrm{dimana} \\quad S_2=\\partial{S}\n",
    "] $$"
   ]
  },
  {
   "cell_type": "code",
   "execution_count": null,
   "metadata": {},
   "outputs": [],
   "source": []
  }
 ],
 "metadata": {
  "kernelspec": {
   "display_name": "Python 3",
   "language": "python",
   "name": "python3"
  },
  "language_info": {
   "codemirror_mode": {
    "name": "ipython",
    "version": 3
   },
   "file_extension": ".py",
   "mimetype": "text/x-python",
   "name": "python",
   "nbconvert_exporter": "python",
   "pygments_lexer": "ipython3",
   "version": "3.8.5"
  }
 },
 "nbformat": 4,
 "nbformat_minor": 4
}
